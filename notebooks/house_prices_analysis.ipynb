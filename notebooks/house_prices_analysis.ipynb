{
  "nbformat": 4,
  "nbformat_minor": 0,
  "metadata": {
    "colab": {
      "provenance": []
    },
    "kernelspec": {
      "name": "python3",
      "display_name": "Python 3"
    },
    "language_info": {
      "name": "python"
    }
  },
  "cells": [
    {
      "cell_type": "code",
      "source": [
        "# Importing necessary libraries for data analysis and visualization\n",
        "\n",
        "# pandas: used for data manipulation and analysis, especially with tabular data (DataFrames)\n",
        "import pandas as pd\n",
        "\n",
        "# numpy: used for numerical operations, arrays, and mathematical functions\n",
        "import numpy as np\n",
        "\n",
        "# matplotlib.pyplot: used for creating static, interactive, and animated visualizations\n",
        "import matplotlib.pyplot as plt\n",
        "\n",
        "# seaborn: statistical data visualization library built on matplotlib, simplifies plotting and enhances aesthetics\n",
        "import seaborn as sns\n",
        "\n"
      ],
      "metadata": {
        "id": "qgNHucvTt0b4"
      },
      "execution_count": 1,
      "outputs": []
    }
  ]
}